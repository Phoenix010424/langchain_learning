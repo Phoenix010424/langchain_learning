{
 "cells": [
  {
   "cell_type": "markdown",
   "id": "53cfbc0c",
   "metadata": {},
   "source": [
    "### langchain背景"
   ]
  },
  {
   "cell_type": "markdown",
   "id": "2f530a9a",
   "metadata": {},
   "source": [
    "LangChain 是一个开源框架，旨在帮助开发者使用大型语言模型（LLMs）和聊天模型构建端到端的应用程序。它提供了一套工具、组件和接口，以简化创建由这些模型支持的应用程序的过程。LangChain 的核心概念包括组件（Components）、链（Chains）、模型输入/输出（Model I/O）、数据连接（Data Connection）、内存（Memory）和代理（Agents）等。"
   ]
  },
  {
   "cell_type": "markdown",
   "id": "455ea298",
   "metadata": {},
   "source": [
    "以下是LangChain的一些关键特性和组件的详细解释：\n",
    "\n",
    "1. **组件（Components）**：\n",
    "   - **模型输入/输出（Model I/O）**：负责管理与语言模型的交互，包括输入（提示，Prompts）和格式化输出（输出解析器，Output Parsers）。\n",
    "   - **数据连接（Data Connection）**：管理向量数据存储、内容数据获取和转换，以及向量数据查询。\n",
    "   - **内存（Memory）**：用于存储和获取对话历史记录的功能模块。\n",
    "   - **链（Chains）**：串联Memory、Model I/O和Data Connection，以实现串行化的连续对话和推理流程。\n",
    "   - **代理（Agents）**：基于链进一步串联工具，将语言模型的能力和本地、云服务能力结合。\n",
    "   - **回调（Callbacks）**：提供了一个回调系统，可连接到请求的各个阶段，便于进行日志记录、追踪等数据导流。\n",
    "\n",
    "2. **模型输入/输出（Model I/O）**：\n",
    "   - **LLMs**：与大型语言模型进行接口交互，如OpenAI、Cohere等。\n",
    "   - **Chat Models**：聊天模型是语言模型的变体，它们以聊天信息列表为输入和输出，提供更结构化的消息。\n",
    "\n",
    "3. **数据连接（Data Connection）**：\n",
    "   - **向量数据存储（Vector Stores）**：用于构建私域知识库。\n",
    "   - **内容数据获取（Document Loaders）**：获取内容数据。\n",
    "   - **转换（Transformers）**：处理数据转换。\n",
    "   - **向量数据查询（Retrievers）**：查询向量数据。\n",
    "\n",
    "4. **内存（Memory）**：\n",
    "   - 用于存储对话历史记录，以便在连续对话中保持上下文。\n",
    "\n",
    "5. **链（Chains）**：\n",
    "   - 是组合在一起以完成特定任务的一系列组件。\n",
    "\n",
    "6. **代理（Agents）**：\n",
    "   - 基于链的工具，结合了语言模型的能力和本地、云服务。\n",
    "\n",
    "7. **回调（Callbacks）**：\n",
    "   - 提供了一个系统，可以在请求的不同阶段进行日志记录、追踪等。"
   ]
  },
  {
   "cell_type": "code",
   "execution_count": null,
   "id": "2145c99c",
   "metadata": {},
   "outputs": [],
   "source": [
    "from langchain_openai import ChatOpenAI\n",
    "import os\n",
    "\n",
    "OPENAI_API_KEY= os.getenv('OPEN_API_KEY')\n",
    "llm = ChatOpenAI(openai_api_key=OPENAI_API_KEY)\n",
    "llm.invoke(\"中国的首都是哪里？不需要介绍\")"
   ]
  },
  {
   "cell_type": "markdown",
   "id": "e2598ffb",
   "metadata": {},
   "source": [
    "结果：AIMessage(content='北京。')"
   ]
  },
  {
   "cell_type": "markdown",
   "id": "abfe8f98",
   "metadata": {},
   "source": [
    "### 基本示例"
   ]
  },
  {
   "cell_type": "code",
   "execution_count": null,
   "id": "87248cca",
   "metadata": {},
   "outputs": [],
   "source": [
    "from langchain_core.output_parsers import StrOutputParser\n",
    "from langchain_core.prompts import ChatPromptTemplate\n",
    "from langchain_openai import ChatOpenAI\n",
    "\n",
    "prompt = ChatPromptTemplate.from_template(\"请根据下面的主题写一篇小红书营销的短文： {topic}\")\n",
    "model = ChatOpenAI(\n",
    "    model=\"gpt-3.5-turbo-1106\",\n",
    "    openai_api_key=OPENAI_API_KEY\n",
    "    )\n",
    "output_parser = StrOutputParser()\n",
    "\n",
    "chain = prompt | model | output_parser\n",
    "\n",
    "chain.invoke({\"topic\": \"康师傅绿茶\"})"
   ]
  },
  {
   "cell_type": "markdown",
   "id": "c37e498b",
   "metadata": {},
   "source": [
    "这里有疑问，这里的output_parser = StrOutputParser()是指什么，什么作用？"
   ]
  },
  {
   "cell_type": "markdown",
   "id": "a1900f29",
   "metadata": {},
   "source": [
    "### Prompt"
   ]
  },
  {
   "cell_type": "code",
   "execution_count": null,
   "id": "77df6284",
   "metadata": {},
   "outputs": [],
   "source": [
    "prompt = ChatPromptTemplate.from_template(\"请根据下面的主题写一篇小红书营销的短文： {topic}\")\n",
    "\n",
    "prompt_value = prompt.invoke({\"topic\": \"康师傅绿茶\"})\n",
    "prompt_value"
   ]
  },
  {
   "cell_type": "markdown",
   "id": "e67cfb1a",
   "metadata": {},
   "source": [
    "### Model\n"
   ]
  },
  {
   "cell_type": "code",
   "execution_count": null,
   "id": "2126176e",
   "metadata": {},
   "outputs": [],
   "source": [
    "message = model.invoke(prompt_value)\n",
    "message"
   ]
  },
  {
   "cell_type": "markdown",
   "id": "ccce4e6e",
   "metadata": {},
   "source": [
    "AIMessage(content='康师傅绿茶，清新解渴，是夏日里的一抹清凉。清爽的茶香，清凉的口感，让人在炎炎夏日里倍感舒爽。而在小红书上，康师傅绿茶也成为了不少网红们推荐的热门产品。\\n\\n康师傅绿茶的营销之所以成功，一方面是因为其口感清新的特点，另一方面也离不开小红书这个平台的传播力。在小红书上，不少网红们通过视频、图片等形式，展示了康师傅绿茶的饮用方式、')"
   ]
  },
  {
   "cell_type": "markdown",
   "id": "8cd009c2",
   "metadata": {},
   "source": [
    "### Output parser 输出解析器\n",
    "\n",
    "将 model 输出传递给 output_parser ，这是一个 BaseOutputParser ，意味着它接受字符串或 BaseMessage 作为输入。 StrOutputParser 特别简单地将任何输入转换为字符串。"
   ]
  },
  {
   "cell_type": "markdown",
   "id": "8f727bc7",
   "metadata": {},
   "source": [
    "### 流式输出\n",
    "\n",
    "如果我们想流式传输结果，我们需要更改我们的函数"
   ]
  },
  {
   "cell_type": "code",
   "execution_count": null,
   "id": "e04981ea",
   "metadata": {},
   "outputs": [],
   "source": [
    "for chunk in chain.stream({\"topic\": \"康师傅绿茶\"}):\n",
    "    print(chunk, end=\"\", flush=True)"
   ]
  },
  {
   "cell_type": "markdown",
   "id": "4a46f3c5",
   "metadata": {},
   "source": [
    "标题：发现最爱的味道，康师傅绿茶\n",
    "\n",
    "大家好，今天我要和大家分享的是我最近发现的一款超赞的饮品——康师傅绿茶。\n",
    "\n",
    "康师傅绿茶是一款清新爽口的绿茶饮品，口感清爽，饮后回甘，喝起来非常舒服。作为一个爱好者，我对绿茶的要求是非常高的，康师傅绿茶不仅符合了我的口味，而且还有着极佳的性价比，让我每次喝到都感到满满的幸福感。\n",
    "\n",
    "不仅如此，康师傅绿茶还采用了优质的绿茶原料，严格的生产工艺，确保了饮品的品质和口感。无论是在夏天的炎热日子里消暑解渴，还是在冬天的寒冷季节里温暖身心，康师傅绿茶都能给予你最舒适的味蕾享受。\n",
    "\n",
    "最近，我在小红书上看到了很多网友对康师傅绿茶的推荐和分享，他们纷纷表示喜欢这款产品的清新口感和优质原料。因此，我也被他们的推荐所吸引，尝试了康师傅绿茶，发现果然名不虚传，非常值得一试。\n",
    "\n",
    "我相信，作为一款优质的绿茶饮品，康师傅绿茶一定能够获得更多消费者的喜爱和认可。希望更多的人可以尝试这款饮品，发现属于自己的最爱味道。\n",
    "\n",
    "总之，康师傅绿茶是一款非常值得推荐的饮品，无论是在日常生活中还是在工作学习之余，都能够给你带来一份清爽和舒适。让我们一起发现最爱的味道，与康师傅绿茶一同度过美好的时光吧！"
   ]
  },
  {
   "cell_type": "markdown",
   "id": "ba679f4f",
   "metadata": {},
   "source": [
    "所以完整的流式输出是否如下？"
   ]
  },
  {
   "cell_type": "code",
   "execution_count": null,
   "id": "a2654d2d",
   "metadata": {},
   "outputs": [],
   "source": [
    "from langchain_core.output_parsers import StrOutputParser\n",
    "from langchain_core.prompts import ChatPromptTemplate\n",
    "from langchain_openai import ChatOpenAI\n",
    "\n",
    "prompt = ChatPromptTemplate.from_template(\"请根据下面的主题写一篇小红书营销的短文： {topic}\")\n",
    "model = ChatOpenAI(model=\"gpt-3.5-turbo-1106\",\n",
    "                   openai_api_key=OPENAI_API_KEY,\n",
    "                   streaming=True)  # 显式启用流式（默认True，但建议明确声明）\n",
    "output_parser = StrOutputParser()\n",
    "\n",
    "chain = prompt | model | output_parser\n",
    "\n",
    "for chunk in chain.stream({\"topic\": \"康师傅绿茶\"}):\n",
    "    print(chunk, end=\"\", flush=True)"
   ]
  },
  {
   "cell_type": "markdown",
   "id": "394adde0",
   "metadata": {},
   "source": []
  }
 ],
 "metadata": {
  "kernelspec": {
   "display_name": "Python 3",
   "language": "python",
   "name": "python3"
  },
  "language_info": {
   "codemirror_mode": {
    "name": "ipython",
    "version": 3
   },
   "file_extension": ".py",
   "mimetype": "text/x-python",
   "name": "python",
   "nbconvert_exporter": "python",
   "pygments_lexer": "ipython3",
   "version": "3.12.1"
  }
 },
 "nbformat": 4,
 "nbformat_minor": 5
}
